{
 "cells": [
  {
   "cell_type": "code",
   "execution_count": 1,
   "metadata": {},
   "outputs": [],
   "source": [
    "from googleapiclient.discovery import build\n",
    "from google_auth_oauthlib.flow import InstalledAppFlow\n",
    "import random"
   ]
  },
  {
   "cell_type": "code",
   "execution_count": 2,
   "metadata": {},
   "outputs": [],
   "source": [
    "original_playlist_id = 'PLlUyZfiSZ0nU5EczlYUQ4i9dSO0Io1qD3' \n",
    "title = \"Shuffled Roadtrip\"\n",
    "description = \"This is a shuffled version of the roadtrip playlist\""
   ]
  },
  {
   "cell_type": "code",
   "execution_count": 3,
   "metadata": {},
   "outputs": [],
   "source": [
    "def authenticate():\n",
    "    flow = InstalledAppFlow.from_client_secrets_file(\n",
    "        'client_secret.json',\n",
    "        ['https://www.googleapis.com/auth/youtube.force-ssl']\n",
    "    )\n",
    "    credentials = flow.run_local_server(port=0)\n",
    "    youtube = build('youtube', 'v3', credentials=credentials)\n",
    "    return youtube"
   ]
  },
  {
   "cell_type": "code",
   "execution_count": 5,
   "metadata": {},
   "outputs": [],
   "source": [
    "def get_playlist_items(youtube, playlist_id):\n",
    "    all_videos = []\n",
    "    request = youtube.playlistItems().list(\n",
    "        part=\"snippet\",\n",
    "        maxResults=50,\n",
    "        playlistId=playlist_id\n",
    "    )\n",
    "    \n",
    "    while request is not None:\n",
    "        response = request.execute()\n",
    "        all_videos.extend(response['items'])\n",
    "        request = youtube.playlistItems().list_next(request, response)\n",
    "        \n",
    "    return all_videos"
   ]
  },
  {
   "cell_type": "code",
   "execution_count": 6,
   "metadata": {},
   "outputs": [],
   "source": [
    "def create_playlist(youtube, title, description):\n",
    "    request = youtube.playlists().insert(\n",
    "        part=\"snippet,status\",\n",
    "        body={\n",
    "            \"snippet\": {\n",
    "                \"title\": title,\n",
    "                \"description\": description\n",
    "            },\n",
    "            \"status\": {\n",
    "                \"privacyStatus\": \"private\"\n",
    "            }\n",
    "        }\n",
    "    )\n",
    "    response = request.execute()\n",
    "    return response['id']\n",
    "\n",
    "def add_items_to_playlist(youtube, playlist_id, videos):\n",
    "    for video in videos:\n",
    "        try:\n",
    "            request = youtube.playlistItems().insert(\n",
    "                part=\"snippet\",\n",
    "                body={\n",
    "                    \"snippet\": {\n",
    "                        \"playlistId\": playlist_id,\n",
    "                        \"resourceId\": {\n",
    "                            \"kind\": \"youtube#video\",\n",
    "                            \"videoId\": video['snippet']['resourceId']['videoId']\n",
    "                        }\n",
    "                    }\n",
    "                }\n",
    "            )\n",
    "            response = request.execute()\n",
    "        except:\n",
    "            print(\"Error adding video: \" + video['snippet']['title'])"
   ]
  },
  {
   "cell_type": "code",
   "execution_count": 7,
   "metadata": {},
   "outputs": [],
   "source": [
    "def shuffle_playlist(youtube, original_playlist_id, title, description):\n",
    "    videos = get_playlist_items(youtube, original_playlist_id)\n",
    "    random.shuffle(videos)\n",
    "    new_playlist_id = create_playlist(youtube, title, description)\n",
    "    add_items_to_playlist(youtube, new_playlist_id, videos)\n"
   ]
  },
  {
   "cell_type": "code",
   "execution_count": 8,
   "metadata": {},
   "outputs": [
    {
     "name": "stdout",
     "output_type": "stream",
     "text": [
      "Please visit this URL to authorize this application: https://accounts.google.com/o/oauth2/auth?response_type=code&client_id=162388519786-0pdvs0po6iph552m9h8m5b5vl1g8kr3l.apps.googleusercontent.com&redirect_uri=http%3A%2F%2Flocalhost%3A60761%2F&scope=https%3A%2F%2Fwww.googleapis.com%2Fauth%2Fyoutube.force-ssl&state=OqQL50eD04pqH8ZsPRRofKNUPlwldg&access_type=offline\n"
     ]
    },
    {
     "ename": "HttpError",
     "evalue": "<HttpError 400 when requesting https://youtube.googleapis.com/youtube/v3/playlistItems?part=snippet&alt=json returned \"Precondition check failed.\". Details: \"[{'message': 'Precondition check failed.', 'domain': 'global', 'reason': 'failedPrecondition'}]\">",
     "output_type": "error",
     "traceback": [
      "\u001b[0;31m---------------------------------------------------------------------------\u001b[0m",
      "\u001b[0;31mHttpError\u001b[0m                                 Traceback (most recent call last)",
      "Cell \u001b[0;32mIn[8], line 2\u001b[0m\n\u001b[1;32m      1\u001b[0m youtube \u001b[39m=\u001b[39m authenticate()\n\u001b[0;32m----> 2\u001b[0m shuffle_playlist(youtube, original_playlist_id, title, description)\n",
      "Cell \u001b[0;32mIn[7], line 5\u001b[0m, in \u001b[0;36mshuffle_playlist\u001b[0;34m(youtube, original_playlist_id, title, description)\u001b[0m\n\u001b[1;32m      3\u001b[0m random\u001b[39m.\u001b[39mshuffle(videos)\n\u001b[1;32m      4\u001b[0m new_playlist_id \u001b[39m=\u001b[39m create_playlist(youtube, title, description)\n\u001b[0;32m----> 5\u001b[0m add_items_to_playlist(youtube, new_playlist_id, videos)\n",
      "Cell \u001b[0;32mIn[6], line 31\u001b[0m, in \u001b[0;36madd_items_to_playlist\u001b[0;34m(youtube, playlist_id, videos)\u001b[0m\n\u001b[1;32m     18\u001b[0m \u001b[39mfor\u001b[39;00m video \u001b[39min\u001b[39;00m videos:\n\u001b[1;32m     19\u001b[0m     request \u001b[39m=\u001b[39m youtube\u001b[39m.\u001b[39mplaylistItems()\u001b[39m.\u001b[39minsert(\n\u001b[1;32m     20\u001b[0m         part\u001b[39m=\u001b[39m\u001b[39m\"\u001b[39m\u001b[39msnippet\u001b[39m\u001b[39m\"\u001b[39m,\n\u001b[1;32m     21\u001b[0m         body\u001b[39m=\u001b[39m{\n\u001b[0;32m   (...)\u001b[0m\n\u001b[1;32m     29\u001b[0m         }\n\u001b[1;32m     30\u001b[0m     )\n\u001b[0;32m---> 31\u001b[0m     response \u001b[39m=\u001b[39m request\u001b[39m.\u001b[39;49mexecute()\n",
      "File \u001b[0;32m/usr/local/lib/python3.10/site-packages/googleapiclient/_helpers.py:130\u001b[0m, in \u001b[0;36mpositional.<locals>.positional_decorator.<locals>.positional_wrapper\u001b[0;34m(*args, **kwargs)\u001b[0m\n\u001b[1;32m    128\u001b[0m     \u001b[39melif\u001b[39;00m positional_parameters_enforcement \u001b[39m==\u001b[39m POSITIONAL_WARNING:\n\u001b[1;32m    129\u001b[0m         logger\u001b[39m.\u001b[39mwarning(message)\n\u001b[0;32m--> 130\u001b[0m \u001b[39mreturn\u001b[39;00m wrapped(\u001b[39m*\u001b[39;49margs, \u001b[39m*\u001b[39;49m\u001b[39m*\u001b[39;49mkwargs)\n",
      "File \u001b[0;32m/usr/local/lib/python3.10/site-packages/googleapiclient/http.py:938\u001b[0m, in \u001b[0;36mHttpRequest.execute\u001b[0;34m(self, http, num_retries)\u001b[0m\n\u001b[1;32m    936\u001b[0m     callback(resp)\n\u001b[1;32m    937\u001b[0m \u001b[39mif\u001b[39;00m resp\u001b[39m.\u001b[39mstatus \u001b[39m>\u001b[39m\u001b[39m=\u001b[39m \u001b[39m300\u001b[39m:\n\u001b[0;32m--> 938\u001b[0m     \u001b[39mraise\u001b[39;00m HttpError(resp, content, uri\u001b[39m=\u001b[39m\u001b[39mself\u001b[39m\u001b[39m.\u001b[39muri)\n\u001b[1;32m    939\u001b[0m \u001b[39mreturn\u001b[39;00m \u001b[39mself\u001b[39m\u001b[39m.\u001b[39mpostproc(resp, content)\n",
      "\u001b[0;31mHttpError\u001b[0m: <HttpError 400 when requesting https://youtube.googleapis.com/youtube/v3/playlistItems?part=snippet&alt=json returned \"Precondition check failed.\". Details: \"[{'message': 'Precondition check failed.', 'domain': 'global', 'reason': 'failedPrecondition'}]\">"
     ]
    }
   ],
   "source": [
    "youtube = authenticate()\n",
    "shuffle_playlist(youtube, original_playlist_id, title, description)"
   ]
  }
 ],
 "metadata": {
  "kernelspec": {
   "display_name": "Python 3",
   "language": "python",
   "name": "python3"
  },
  "language_info": {
   "codemirror_mode": {
    "name": "ipython",
    "version": 3
   },
   "file_extension": ".py",
   "mimetype": "text/x-python",
   "name": "python",
   "nbconvert_exporter": "python",
   "pygments_lexer": "ipython3",
   "version": "3.10.8"
  },
  "orig_nbformat": 4
 },
 "nbformat": 4,
 "nbformat_minor": 2
}
